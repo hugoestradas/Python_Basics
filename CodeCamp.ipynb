{
 "cells": [
  {
   "cell_type": "code",
   "execution_count": 27,
   "id": "recovered-minneapolis",
   "metadata": {},
   "outputs": [
    {
     "data": {
      "text/plain": [
       "[3, 3, 11]"
      ]
     },
     "execution_count": 27,
     "metadata": {},
     "output_type": "execute_result"
    }
   ],
   "source": [
    "def prime_factors(n):\n",
    "    factors = list()\n",
    "    divisor = 2\n",
    "    while(divisor <= n):\n",
    "        if(n % divisor) == 0:\n",
    "            factors.append(divisor)\n",
    "            n = n/divisor\n",
    "        else:\n",
    "            divisor += 1\n",
    "    return  factors\n",
    "\n",
    "prime_factors(99)"
   ]
  },
  {
   "cell_type": "code",
   "execution_count": 28,
   "id": "contemporary-savannah",
   "metadata": {},
   "outputs": [
    {
     "data": {
      "text/plain": [
       "'a alphabetically is list not of sorted this words'"
      ]
     },
     "execution_count": 28,
     "metadata": {},
     "output_type": "execute_result"
    }
   ],
   "source": [
    "def sorted(strings):\n",
    "    words = strings.split()\n",
    "    words = [w.lower() + w for w in words]\n",
    "    words.sort()\n",
    "    words = [w[len(w)//2:] for w in words]\n",
    "    return ' '.join(words)\n",
    "\n",
    "sorted(\"this is a list of words not sorted alphabetically\")"
   ]
  },
  {
   "cell_type": "code",
   "execution_count": 31,
   "id": "renewable-certification",
   "metadata": {},
   "outputs": [
    {
     "data": {
      "text/plain": [
       "'kiosk bub jockey babe dummy'"
      ]
     },
     "execution_count": 31,
     "metadata": {},
     "output_type": "execute_result"
    }
   ],
   "source": [
    "import secrets\n",
    "\n",
    "def passphrase(n):\n",
    "    with open('diceware.wordlist.asc', 'r') as file:\n",
    "        lines = file.readlines()[2:7778]\n",
    "        word_list = [line.split()[1] for line in lines]\n",
    "        \n",
    "        words = [secrets.choice(word_list) for i in range(n)]\n",
    "        return ' '.join(words)\n",
    "    \n",
    "passphrase(5)"
   ]
  },
  {
   "cell_type": "code",
   "execution_count": 33,
   "id": "genetic-subdivision",
   "metadata": {},
   "outputs": [
    {
     "name": "stdout",
     "output_type": "stream",
     "text": [
      "{1: 'a', 2: 'b', 3: 'c'}\n"
     ]
    }
   ],
   "source": [
    "import pickle\n",
    "\n",
    "def save_dict(dict_to_save, file_path):\n",
    "    with open(file_path, 'wb') as file:\n",
    "        pickle.dump(dict_to_save, file)\n",
    "    \n",
    "def load_dict(file_path):\n",
    "    with open(file_path, 'rb') as file:\n",
    "        return pickle.load(file)\n",
    "\n",
    "test_dict = {1: 'a', 2: 'b', 3: 'c'}\n",
    "save_dict(test_dict, 'test_dict.pickle')\n",
    "recovered = load_dict('test_dict.pickle')\n",
    "print(recovered)"
   ]
  },
  {
   "cell_type": "code",
   "execution_count": null,
   "id": "faced-support",
   "metadata": {},
   "outputs": [],
   "source": []
  }
 ],
 "metadata": {
  "kernelspec": {
   "display_name": "Python 3",
   "language": "python",
   "name": "python3"
  },
  "language_info": {
   "codemirror_mode": {
    "name": "ipython",
    "version": 3
   },
   "file_extension": ".py",
   "mimetype": "text/x-python",
   "name": "python",
   "nbconvert_exporter": "python",
   "pygments_lexer": "ipython3",
   "version": "3.8.6"
  }
 },
 "nbformat": 4,
 "nbformat_minor": 5
}
